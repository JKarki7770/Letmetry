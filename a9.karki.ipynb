{
 "cells": [
  {
   "cell_type": "markdown",
   "metadata": {},
   "source": [
    "Janak Karki\n",
    "CS 195 001\n",
    "Assignment 9\n"
   ]
  },
  {
   "cell_type": "code",
   "execution_count": 46,
   "metadata": {},
   "outputs": [],
   "source": [
    "def greeting(name):\n",
    "    '''funtion greeting is taking argument called name'''\n",
    "    print(\"hello\", name)\n",
    "    return (len(name))"
   ]
  },
  {
   "cell_type": "code",
   "execution_count": 48,
   "metadata": {},
   "outputs": [
    {
     "name": "stdout",
     "output_type": "stream",
     "text": [
      "hello Rashi\n",
      "hello JJ\n",
      "hello Nina\n",
      "hello Indira\n"
     ]
    },
    {
     "data": {
      "text/plain": [
       "17"
      ]
     },
     "execution_count": 48,
     "metadata": {},
     "output_type": "execute_result"
    }
   ],
   "source": [
    "def greetPeople(names):\n",
    "    '''names is an argument in a function called greetPeople'''\n",
    "\n",
    "    sum = 0\n",
    "    for x in names:\n",
    "        sum = sum + greeting(x)\n",
    "    return(sum)\n",
    "greetPeople([\"Rashi\",\"JJ\",\"Nina\",\"Indira\"])"
   ]
  }
 ],
 "metadata": {
  "kernelspec": {
   "display_name": "Python 3.10.6 64-bit",
   "language": "python",
   "name": "python3"
  },
  "language_info": {
   "codemirror_mode": {
    "name": "ipython",
    "version": 3
   },
   "file_extension": ".py",
   "mimetype": "text/x-python",
   "name": "python",
   "nbconvert_exporter": "python",
   "pygments_lexer": "ipython3",
   "version": "3.10.6"
  },
  "orig_nbformat": 4,
  "vscode": {
   "interpreter": {
    "hash": "7bbf9f5069aeb385687ebd5dc01920f1c388634fc392e3e49742b9d0a66bc432"
   }
  }
 },
 "nbformat": 4,
 "nbformat_minor": 2
}
