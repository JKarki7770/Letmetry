{
 "cells": [
  {
   "cell_type": "markdown",
   "metadata": {},
   "source": [
    "Janak\n",
    "CS195-001\n",
    "Assignment7"
   ]
  },
  {
   "cell_type": "code",
   "execution_count": 1,
   "metadata": {},
   "outputs": [
    {
     "name": "stdout",
     "output_type": "stream",
     "text": [
      "[10, 11, 12, 13, 14, 15, 16, 17, 18, 19, 20]\n"
     ]
    }
   ],
   "source": [
    "#creating an empty list....\n",
    "lst = []\n",
    "for x in range(10,21):\n",
    "    lst.append(x)\n",
    "    \n",
    "print(lst)\n",
    "\n"
   ]
  },
  {
   "cell_type": "code",
   "execution_count": 34,
   "metadata": {},
   "outputs": [
    {
     "name": "stdout",
     "output_type": "stream",
     "text": [
      "number of items in s1: 31\n"
     ]
    }
   ],
   "source": [
    "from random import randint\n",
    "s1 = set()\n",
    "\n",
    "for i in range(50):\n",
    "    s1.add(randint(1,40))\n",
    "total_num = len(s1)\n",
    "print (f\"number of items in s1: {total_num}\")\n"
   ]
  },
  {
   "cell_type": "code",
   "execution_count": 33,
   "metadata": {},
   "outputs": [
    {
     "name": "stdout",
     "output_type": "stream",
     "text": [
      "union of s1 and s2: {1, 4, 5, 6, 8, 9, 10, 11, 12, 13, 14, 15, 16, 17, 18, 19, 20, 21, 22, 24, 28, 29, 30, 31, 32, 33, 34, 36, 37, 38}\n",
      "difference between s2 and s1: {17, 19, 13}\n",
      "number of unions between s1 and s2:30\n"
     ]
    }
   ],
   "source": [
    "#create a new set s2, based on lst...\n",
    "s2 = set()\n",
    "s2.update([10,11,12,13,14,15,16,17,18,19,20])\n",
    "\n",
    "\n",
    "\n",
    "print(f\"union of s1 and s2: {s1|s2}\")\n",
    "print(f\"difference between s2 and s1: {s2-s1}\")\n",
    "#print(f\"number of items in union of s1 and s2:{len(s1|s2)})\"\n",
    "print(f\"number of unions between s1 and s2:{len(s1|s2)}\")\n",
    "\n",
    "\n"
   ]
  }
 ],
 "metadata": {
  "kernelspec": {
   "display_name": "Python 3.10.6 64-bit",
   "language": "python",
   "name": "python3"
  },
  "language_info": {
   "codemirror_mode": {
    "name": "ipython",
    "version": 3
   },
   "file_extension": ".py",
   "mimetype": "text/x-python",
   "name": "python",
   "nbconvert_exporter": "python",
   "pygments_lexer": "ipython3",
   "version": "3.10.6"
  },
  "orig_nbformat": 4,
  "vscode": {
   "interpreter": {
    "hash": "7bbf9f5069aeb385687ebd5dc01920f1c388634fc392e3e49742b9d0a66bc432"
   }
  }
 },
 "nbformat": 4,
 "nbformat_minor": 2
}
