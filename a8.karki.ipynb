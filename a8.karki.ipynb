{
 "cells": [
  {
   "cell_type": "markdown",
   "metadata": {},
   "source": [
    "Janak Karki\n",
    "CS 195-001\n",
    "Assignment8\n"
   ]
  },
  {
   "cell_type": "code",
   "execution_count": 19,
   "metadata": {},
   "outputs": [
    {
     "name": "stdout",
     "output_type": "stream",
     "text": [
      "{'apple': 10, 'banana': 12, 'cherry': 5}\n"
     ]
    }
   ],
   "source": [
    "d1 = {'apple': 10, 'banana': 12, 'cherry': 5}\n",
    "print (d1)"
   ]
  },
  {
   "cell_type": "code",
   "execution_count": 20,
   "metadata": {},
   "outputs": [
    {
     "name": "stdout",
     "output_type": "stream",
     "text": [
      "{'apple': [1, 2, 3], 'banana': 12, 'cherry': 5}\n"
     ]
    }
   ],
   "source": [
    "d1['apple'] = [1,2,3]\n",
    "\n",
    "print (d1)"
   ]
  },
  {
   "cell_type": "code",
   "execution_count": 24,
   "metadata": {},
   "outputs": [
    {
     "name": "stdout",
     "output_type": "stream",
     "text": [
      "{'apple': [1, 2, 3], 'banana': 12, 'cherry': 5}\n",
      "{'apple': [1, 2, 3, 4], 'banana': 12, 'cherry': 5}\n"
     ]
    }
   ],
   "source": [
    "from copy import deepcopy\n",
    "\n",
    "d2 = deepcopy(d1)\n",
    "\n",
    "d2['apple'] += [4]\n",
    "\n",
    "print(d1)\n",
    "print(d2)"
   ]
  }
 ],
 "metadata": {
  "kernelspec": {
   "display_name": "Python 3.10.6 64-bit",
   "language": "python",
   "name": "python3"
  },
  "language_info": {
   "codemirror_mode": {
    "name": "ipython",
    "version": 3
   },
   "file_extension": ".py",
   "mimetype": "text/x-python",
   "name": "python",
   "nbconvert_exporter": "python",
   "pygments_lexer": "ipython3",
   "version": "3.10.6"
  },
  "orig_nbformat": 4,
  "vscode": {
   "interpreter": {
    "hash": "7bbf9f5069aeb385687ebd5dc01920f1c388634fc392e3e49742b9d0a66bc432"
   }
  }
 },
 "nbformat": 4,
 "nbformat_minor": 2
}
